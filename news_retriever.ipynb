{
 "cells": [
  {
   "cell_type": "code",
   "execution_count": 2,
   "id": "5a9725fa",
   "metadata": {},
   "outputs": [
    {
     "name": "stdout",
     "output_type": "stream",
     "text": [
      "Collecting schedule\n",
      "  Downloading schedule-1.2.1-py2.py3-none-any.whl (11 kB)\n",
      "Installing collected packages: schedule\n",
      "Successfully installed schedule-1.2.1\n"
     ]
    }
   ],
   "source": [
    "!pip install schedule"
   ]
  },
  {
   "cell_type": "code",
   "execution_count": 3,
   "id": "711ac253",
   "metadata": {},
   "outputs": [],
   "source": [
    "import requests\n",
    "from bs4 import BeautifulSoup\n",
    "import smtplib\n",
    "from email.mime.multipart import MIMEMultipart\n",
    "from email.mime.text import MIMEText\n",
    "import schedule\n",
    "import time"
   ]
  },
  {
   "cell_type": "code",
   "execution_count": 4,
   "id": "384e41aa",
   "metadata": {},
   "outputs": [],
   "source": [
    "def get_bbc_news():\n",
    "    url = \"enter website\"\n",
    "\n",
    "    # Send an HTTP request to the BBC Sport page\n",
    "    response = requests.get(url)\n",
    "\n",
    "    if response.status_code == 200:\n",
    "        soup = BeautifulSoup(response.text, 'html.parser')\n",
    "\n",
    "        # Extract news headlines\n",
    "        headlines = [headline.get_text(strip=True) for headline in soup.find_all('h3')]\n",
    "\n",
    "        return headlines\n",
    "\n",
    "    else:\n",
    "        print(f\"Failed to retrieve the page. Status code: {response.status_code}\")\n",
    "        return None"
   ]
  },
  {
   "cell_type": "code",
   "execution_count": 7,
   "id": "55b41f42",
   "metadata": {},
   "outputs": [],
   "source": [
    "def send_email(news):\n",
    "    # Email configuration\n",
    "    sender_email = \"xxxxxxx\"  # Replace with your email address\n",
    "    sender_password = \"xxxxxxxxx\"  # Replace with your password\n",
    "    receiver_email = \"xxxxxxxxxx\" # Replace with your  email\n",
    "\n",
    "    # Create the MIME object\n",
    "    msg = MIMEMultipart()\n",
    "    msg['From'] = sender_email\n",
    "    msg['To'] = receiver_email\n",
    "    msg['Subject'] = \"Daily News\"\n",
    "\n",
    "    # Combine news into the email body\n",
    "    news_body = \"\\n\\n\".join(news)\n",
    "    msg.attach(MIMEText(news_body, 'plain'))\n",
    "\n",
    "    # Connect to the SMTP server\n",
    "    with smtplib.SMTP('smtp.gmail.com', 587) as server:\n",
    "        server.starttls()\n",
    "        server.login(sender_email, sender_password)\n",
    "\n",
    "        # Send the email\n",
    "        server.sendmail(sender_email, receiver_email, msg.as_string())\n",
    "\n",
    "    print(\"Email sent successfully.\")\n",
    "\n",
    "def daily_job():\n",
    "    print(\"Running daily job...\")\n",
    "    daily_news = get_bbc_news()\n",
    "\n",
    "    if daily_news:\n",
    "        send_email(daily_news)"
   ]
  },
  {
   "cell_type": "code",
   "execution_count": null,
   "id": "031c2a3e",
   "metadata": {},
   "outputs": [],
   "source": [
    "# Schedule the job to run daily at a specific time (adjust as needed)\n",
    "schedule.every().day.at(\"17:00\").do(daily_job)\n",
    "\n",
    "while True:\n",
    "    schedule.run_pending()\n",
    "    time.sleep(1)"
   ]
  }
 ],
 "metadata": {
  "kernelspec": {
   "display_name": "Python 3 (ipykernel)",
   "language": "python",
   "name": "python3"
  },
  "language_info": {
   "codemirror_mode": {
    "name": "ipython",
    "version": 3
   },
   "file_extension": ".py",
   "mimetype": "text/x-python",
   "name": "python",
   "nbconvert_exporter": "python",
   "pygments_lexer": "ipython3",
   "version": "3.11.3"
  }
 },
 "nbformat": 4,
 "nbformat_minor": 5
}
